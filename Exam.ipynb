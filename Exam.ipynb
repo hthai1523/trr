{
 "cells": [
  {
   "cell_type": "code",
   "execution_count": 8,
   "metadata": {},
   "outputs": [],
   "source": [
    "from sympy import *\n",
    "import math\n",
    "import itertools"
   ]
  },
  {
   "cell_type": "code",
   "execution_count": 5,
   "metadata": {},
   "outputs": [],
   "source": [
    "## Chuong 1 \n",
    "## b1\n",
    "def giai_thua(n):\n",
    "    if n == 1 or n == 0:\n",
    "        return 1\n",
    "    return n*giai_thua(n-1)\n",
    "\n"
   ]
  },
  {
   "cell_type": "code",
   "execution_count": 8,
   "metadata": {},
   "outputs": [
    {
     "data": {
      "text/plain": [
       "6"
      ]
     },
     "execution_count": 8,
     "metadata": {},
     "output_type": "execute_result"
    }
   ],
   "source": [
    "math.factorial(3)"
   ]
  },
  {
   "cell_type": "code",
   "execution_count": 14,
   "metadata": {},
   "outputs": [
    {
     "data": {
      "text/plain": [
       "[(1, 2), (1, 3), (2, 1), (2, 3), (3, 1), (3, 2)]"
      ]
     },
     "execution_count": 14,
     "metadata": {},
     "output_type": "execute_result"
    }
   ],
   "source": [
    "## Tinh P(n,r), Hoan vi, chinh hop\n",
    "list(itertools.permutations([1,2,3],2))"
   ]
  },
  {
   "cell_type": "code",
   "execution_count": 15,
   "metadata": {},
   "outputs": [],
   "source": [
    "def P(n,r):\n",
    "    return giai_thua(n) / giai_thua(n-r)"
   ]
  },
  {
   "cell_type": "code",
   "execution_count": 16,
   "metadata": {},
   "outputs": [
    {
     "data": {
      "text/plain": [
       "5040.0"
      ]
     },
     "execution_count": 16,
     "metadata": {},
     "output_type": "execute_result"
    }
   ],
   "source": [
    "P(10,4)"
   ]
  },
  {
   "cell_type": "code",
   "execution_count": 17,
   "metadata": {},
   "outputs": [],
   "source": [
    "# To hop chap r cua n (n)\n",
    "#                     (r)\n",
    "def to_hop(n,r):\n",
    "    return giai_thua(n) / (giai_thua(r)*giai_thua(n-r))"
   ]
  },
  {
   "cell_type": "code",
   "execution_count": 18,
   "metadata": {},
   "outputs": [
    {
     "data": {
      "text/plain": [
       "10.0"
      ]
     },
     "execution_count": 18,
     "metadata": {},
     "output_type": "execute_result"
    }
   ],
   "source": [
    "to_hop(5,3)"
   ]
  },
  {
   "cell_type": "code",
   "execution_count": 22,
   "metadata": {},
   "outputs": [
    {
     "data": {
      "text/html": [
       "<div>\n",
       "<style scoped>\n",
       "    .dataframe tbody tr th:only-of-type {\n",
       "        vertical-align: middle;\n",
       "    }\n",
       "\n",
       "    .dataframe tbody tr th {\n",
       "        vertical-align: top;\n",
       "    }\n",
       "\n",
       "    .dataframe thead th {\n",
       "        text-align: right;\n",
       "    }\n",
       "</style>\n",
       "<table border=\"1\" class=\"dataframe\">\n",
       "  <thead>\n",
       "    <tr style=\"text-align: right;\">\n",
       "      <th></th>\n",
       "      <th>p</th>\n",
       "      <th>q</th>\n",
       "      <th>r</th>\n",
       "      <th>p =&gt; (q or ~r) and (q != p)</th>\n",
       "    </tr>\n",
       "  </thead>\n",
       "  <tbody>\n",
       "    <tr>\n",
       "      <th>1</th>\n",
       "      <td>1</td>\n",
       "      <td>1</td>\n",
       "      <td>1</td>\n",
       "      <td>0</td>\n",
       "    </tr>\n",
       "    <tr>\n",
       "      <th>2</th>\n",
       "      <td>1</td>\n",
       "      <td>1</td>\n",
       "      <td>0</td>\n",
       "      <td>0</td>\n",
       "    </tr>\n",
       "    <tr>\n",
       "      <th>3</th>\n",
       "      <td>1</td>\n",
       "      <td>0</td>\n",
       "      <td>1</td>\n",
       "      <td>0</td>\n",
       "    </tr>\n",
       "    <tr>\n",
       "      <th>4</th>\n",
       "      <td>1</td>\n",
       "      <td>0</td>\n",
       "      <td>0</td>\n",
       "      <td>1</td>\n",
       "    </tr>\n",
       "    <tr>\n",
       "      <th>5</th>\n",
       "      <td>0</td>\n",
       "      <td>1</td>\n",
       "      <td>1</td>\n",
       "      <td>1</td>\n",
       "    </tr>\n",
       "    <tr>\n",
       "      <th>6</th>\n",
       "      <td>0</td>\n",
       "      <td>1</td>\n",
       "      <td>0</td>\n",
       "      <td>1</td>\n",
       "    </tr>\n",
       "    <tr>\n",
       "      <th>7</th>\n",
       "      <td>0</td>\n",
       "      <td>0</td>\n",
       "      <td>1</td>\n",
       "      <td>1</td>\n",
       "    </tr>\n",
       "    <tr>\n",
       "      <th>8</th>\n",
       "      <td>0</td>\n",
       "      <td>0</td>\n",
       "      <td>0</td>\n",
       "      <td>1</td>\n",
       "    </tr>\n",
       "  </tbody>\n",
       "</table>\n",
       "</div>"
      ],
      "text/plain": [
       "   p  q  r  p => (q or ~r) and (q != p)\n",
       "1  1  1  1                            0\n",
       "2  1  1  0                            0\n",
       "3  1  0  1                            0\n",
       "4  1  0  0                            1\n",
       "5  0  1  1                            1\n",
       "6  0  1  0                            1\n",
       "7  0  0  1                            1\n",
       "8  0  0  0                            1"
      ]
     },
     "execution_count": 22,
     "metadata": {},
     "output_type": "execute_result"
    }
   ],
   "source": [
    "# Bang chan ly\n",
    "import ttg\n",
    "ttg.Truths(['p','q','r'],['p => (q or ~r) and (q != p)']).as_pandas()\n"
   ]
  },
  {
   "cell_type": "code",
   "execution_count": 1,
   "metadata": {},
   "outputs": [],
   "source": [
    "# Kiem tra n co phai so nguyen to khong\n",
    "\n",
    "def is_prime(n):\n",
    "    if n%2 ==0 and n> 2:\n",
    "        return false\n",
    "    for i in range(3, int(math.sqrt(n)),2):\n",
    "        if n % i ==0:\n",
    "            return false\n",
    "    return true\n"
   ]
  },
  {
   "cell_type": "code",
   "execution_count": 8,
   "metadata": {},
   "outputs": [
    {
     "data": {
      "text/plain": [
       "{2, 4, 5, 7, 9}"
      ]
     },
     "execution_count": 8,
     "metadata": {},
     "output_type": "execute_result"
    }
   ],
   "source": [
    "# Chuong 3 \n",
    "A = {1,2,3,4}\n",
    "B = {1,3,5,7,9}\n",
    "\n",
    "# A hop B:\n",
    "A.union(B)\n",
    "A | B\n",
    "# A giao B:\n",
    "A.intersection(B)\n",
    "A & B\n",
    "# A - B:\n",
    "A.difference(B) \n",
    "A - B\n",
    "# A delta B \n",
    "A ^ B\n",
    "A.symmetric_difference(B)"
   ]
  },
  {
   "cell_type": "code",
   "execution_count": 10,
   "metadata": {},
   "outputs": [
    {
     "name": "stdout",
     "output_type": "stream",
     "text": [
      "(1, 1)\n",
      "(1, 3)\n",
      "(1, 5)\n",
      "(1, 7)\n",
      "(1, 9)\n",
      "(2, 1)\n",
      "(2, 3)\n",
      "(2, 5)\n",
      "(2, 7)\n",
      "(2, 9)\n",
      "(3, 1)\n",
      "(3, 3)\n",
      "(3, 5)\n",
      "(3, 7)\n",
      "(3, 9)\n",
      "(4, 1)\n",
      "(4, 3)\n",
      "(4, 5)\n",
      "(4, 7)\n",
      "(4, 9)\n"
     ]
    }
   ],
   "source": [
    "#liet ke tat ca cap cua A x B\n",
    "A = {1,2,3,4}\n",
    "B = {1,3,5,7,9}\n",
    "for a in A:\n",
    "    for b in B:\n",
    "        print((a,b))"
   ]
  },
  {
   "cell_type": "code",
   "execution_count": 3,
   "metadata": {},
   "outputs": [],
   "source": [
    "#day fibonacci\n",
    "\n",
    "def F(n):\n",
    "    if n == 0 :\n",
    "        return 0\n",
    "    if n == 1:\n",
    "        return 1\n",
    "    if n >= 2:\n",
    "        return F(n-1) + F(n-2)\n",
    "\n"
   ]
  },
  {
   "cell_type": "code",
   "execution_count": 4,
   "metadata": {},
   "outputs": [
    {
     "data": {
      "text/plain": [
       "55"
      ]
     },
     "execution_count": 4,
     "metadata": {},
     "output_type": "execute_result"
    }
   ],
   "source": [
    "F(10)"
   ]
  },
  {
   "cell_type": "code",
   "execution_count": 5,
   "metadata": {},
   "outputs": [],
   "source": [
    "def a(m,k):\n",
    "    if m == 0 & k == 0:\n",
    "        return 1\n",
    "    if k>= m | k<0:\n",
    "        return 0\n",
    "    if k>=0 & k <= m-1:\n",
    "        return (m-k)*a(m-1,k-1) + (k+1)*a(m-1,k)"
   ]
  },
  {
   "cell_type": "code",
   "execution_count": 6,
   "metadata": {},
   "outputs": [
    {
     "data": {
      "text/plain": [
       "688"
      ]
     },
     "execution_count": 6,
     "metadata": {},
     "output_type": "execute_result"
    }
   ],
   "source": [
    "a(5,3)"
   ]
  },
  {
   "cell_type": "code",
   "execution_count": 12,
   "metadata": {},
   "outputs": [
    {
     "data": {
      "text/latex": [
       "$\\displaystyle 1$"
      ],
      "text/plain": [
       "1"
      ]
     },
     "execution_count": 12,
     "metadata": {},
     "output_type": "execute_result"
    }
   ],
   "source": [
    "# gcd \n",
    "from sympy import *\n",
    "math.gcd(2023,1401)\n",
    "n = symbols('n')\n",
    "gcd(8*n+3,5*n+2)\n"
   ]
  },
  {
   "cell_type": "code",
   "execution_count": 10,
   "metadata": {},
   "outputs": [],
   "source": [
    "def gcd(a,b):\n",
    "    if b == 0:\n",
    "        return a\n",
    "    else: \n",
    "        return gcd(b,a%b)"
   ]
  },
  {
   "cell_type": "code",
   "execution_count": 13,
   "metadata": {},
   "outputs": [
    {
     "data": {
      "text/plain": [
       "(19, -6, 7)"
      ]
     },
     "execution_count": 13,
     "metadata": {},
     "output_type": "execute_result"
    }
   ],
   "source": [
    "#tim khai trien Euclid của 91 và 287\n",
    "from sympy import *\n",
    "gcdex(91,287)"
   ]
  },
  {
   "cell_type": "code",
   "execution_count": 16,
   "metadata": {},
   "outputs": [
    {
     "data": {
      "text/plain": [
       "(19, -6, 7)"
      ]
     },
     "execution_count": 16,
     "metadata": {},
     "output_type": "execute_result"
    }
   ],
   "source": [
    "def gcdex(a,b):\n",
    "    x0, y0 = 1, 0\n",
    "    x1, y1 = 0, 1\n",
    "    while b != 0:\n",
    "        q = a // b \n",
    "        a , b = b, a % b\n",
    "        x=x0-x1*q\n",
    "        y = y0 - y1 * q\n",
    "        x0, y0 = x1, y1\n",
    "        x1, y1 = x, y \n",
    "    return x0, y0, a\n",
    "gcdex(91,287)"
   ]
  },
  {
   "cell_type": "code",
   "execution_count": 17,
   "metadata": {},
   "outputs": [
    {
     "data": {
      "text/plain": [
       "2834223"
      ]
     },
     "execution_count": 17,
     "metadata": {},
     "output_type": "execute_result"
    }
   ],
   "source": [
    "from sympy import * \n",
    "ilcm(2023,1401)"
   ]
  },
  {
   "cell_type": "code",
   "execution_count": 20,
   "metadata": {},
   "outputs": [
    {
     "data": {
      "text/plain": [
       "263"
      ]
     },
     "execution_count": 20,
     "metadata": {},
     "output_type": "execute_result"
    }
   ],
   "source": [
    "#tinh (2023)5\n",
    "a = [3,2,0,2]\n",
    "b = 5\n",
    "\n",
    "n = 0\n",
    "k = len(a)\n",
    "for i in range(k-1,-1,-1):\n",
    "    n = n * b + a[i]\n",
    "n"
   ]
  },
  {
   "cell_type": "code",
   "execution_count": 21,
   "metadata": {},
   "outputs": [
    {
     "data": {
      "text/plain": [
       "[7, 4, 7, 3]"
      ]
     },
     "execution_count": 21,
     "metadata": {},
     "output_type": "execute_result"
    }
   ],
   "source": [
    "# tìm biểu diễn của 2023 trong cơ số 8\n",
    "n , b = 2023,8\n",
    "a = []\n",
    "\n",
    "while n!=0:\n",
    "    a.append(n%b)\n",
    "    n //= b \n",
    "a # 3747\n"
   ]
  },
  {
   "cell_type": "code",
   "execution_count": 28,
   "metadata": {},
   "outputs": [
    {
     "data": {
      "text/plain": [
       "[4, 2, 4, 3, 0]"
      ]
     },
     "execution_count": 28,
     "metadata": {},
     "output_type": "execute_result"
    }
   ],
   "source": [
    "# tính (2023)5 + (1401)5\n",
    "\n",
    "a = [3,2,0,2]\n",
    "b = [1,0,4,1]\n",
    "base = 5\n",
    "\n",
    "k = len(a)\n",
    "r = 0\n",
    "s = [0] * (k+1)\n",
    "\n",
    "for i in range(k):\n",
    "    t =  a[i] + b[i] + r\n",
    "    s[i] = t % base\n",
    "    r = t // base\n",
    "s[k] =  r\n",
    "\n",
    "\n",
    "s\n"
   ]
  },
  {
   "cell_type": "code",
   "execution_count": 29,
   "metadata": {},
   "outputs": [
    {
     "data": {
      "text/plain": [
       "{2: 2, 3: 1, 5: 1, 17: 1, 31: 2}"
      ]
     },
     "execution_count": 29,
     "metadata": {},
     "output_type": "execute_result"
    }
   ],
   "source": [
    "# phan tich 2023 thanh thừa số nguyên tố \n",
    "from sympy import *\n",
    "factorint (980220) # {2: 2, 3: 1, 5: 1, 17: 1, 31: 2}\n"
   ]
  },
  {
   "cell_type": "code",
   "execution_count": 32,
   "metadata": {},
   "outputs": [],
   "source": [
    "def factorint(n):\n",
    "    i = 2\n",
    "    fact = {}\n",
    "    while n> 1:\n",
    "        while n % i != 0:\n",
    "            i += 1\n",
    "        e = 0\n",
    "        while n % i == 0:\n",
    "            n //= i\n",
    "            e += 1\n",
    "        fact[i] = e\n",
    "    return fact"
   ]
  },
  {
   "cell_type": "code",
   "execution_count": 34,
   "metadata": {},
   "outputs": [
    {
     "data": {
      "text/plain": [
       "{2: 2, 3: 1, 5: 1, 17: 1, 31: 2}"
      ]
     },
     "execution_count": 34,
     "metadata": {},
     "output_type": "execute_result"
    }
   ],
   "source": [
    "factorint(980220)"
   ]
  },
  {
   "cell_type": "code",
   "execution_count": null,
   "metadata": {},
   "outputs": [],
   "source": []
  }
 ],
 "metadata": {
  "kernelspec": {
   "display_name": "base",
   "language": "python",
   "name": "python3"
  },
  "language_info": {
   "codemirror_mode": {
    "name": "ipython",
    "version": 3
   },
   "file_extension": ".py",
   "mimetype": "text/x-python",
   "name": "python",
   "nbconvert_exporter": "python",
   "pygments_lexer": "ipython3",
   "version": "3.10.9"
  },
  "orig_nbformat": 4
 },
 "nbformat": 4,
 "nbformat_minor": 2
}
